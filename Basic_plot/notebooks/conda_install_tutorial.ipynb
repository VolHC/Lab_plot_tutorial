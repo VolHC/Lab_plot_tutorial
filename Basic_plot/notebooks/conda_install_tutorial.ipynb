{
 "cells": [
  {
   "cell_type": "markdown",
   "id": "bddd8572",
   "metadata": {},
   "source": [
    "# Download conda at your local computer, then install ipython.\n",
    "\n",
    "# Step 1. Download URL : https://www.anaconda.com/download/success\n",
    "\n",
    "![conda_navigator](../images/conda_download_page.png)"
   ]
  },
  {
   "cell_type": "markdown",
   "id": "b0555e19",
   "metadata": {},
   "source": [
    "# Step 2. Open navigator and create new env.\n",
    "\n",
    "![conda_create_env](../images/conda_create_env.png)"
   ]
  },
  {
   "cell_type": "markdown",
   "id": "30c9e9d5",
   "metadata": {},
   "source": [
    "# Step 3. open python in terminal\n",
    "\n",
    "![env_terminal](../images/env_terminal.png)"
   ]
  },
  {
   "cell_type": "markdown",
   "id": "63cd22e3",
   "metadata": {},
   "source": [
    "# Step 4. install ipython by command \n",
    "\n",
    "## python -m pip install ipython matplotlib numpy\n",
    "\n",
    "![env_terminal](../images/env_ipython_install.png)"
   ]
  }
 ],
 "metadata": {
  "language_info": {
   "name": "python"
  }
 },
 "nbformat": 4,
 "nbformat_minor": 5
}
