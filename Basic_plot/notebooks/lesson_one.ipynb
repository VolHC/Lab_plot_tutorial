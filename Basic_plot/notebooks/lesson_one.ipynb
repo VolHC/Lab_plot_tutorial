{
 "cells": [
  {
   "cell_type": "markdown",
   "metadata": {},
   "source": [
    "# Welcome to the Tutorial of python plot\n",
    "\n",
    "Base on my experience, I summarized some easy way to plot your own data.\n",
    "\n",
    "This is a minimal Jupyter Notebook for teaching. You can run vitrul machine by colab link.\n",
    "\n",
    "Try running the code cells below!"
   ]
  },
  {
   "cell_type": "markdown",
   "id": "d4e14542",
   "metadata": {},
   "source": [
    "## Basic plot practice."
   ]
  },
  {
   "cell_type": "code",
   "execution_count": null,
   "metadata": {},
   "outputs": [],
   "source": [
    "# Replace your name in \"Student\".\n",
    "name = \"Student\"\n",
    "print(f\"Hello, {name}! Welcome to the class.\")"
   ]
  },
  {
   "cell_type": "code",
   "execution_count": null,
   "id": "f9900455",
   "metadata": {},
   "outputs": [],
   "source": [
    "# import libary we want for plot and read data.\n",
    "import matplotlib.pyplot as plt\n",
    "import numpy as np"
   ]
  },
  {
   "cell_type": "code",
   "execution_count": null,
   "id": "5f3951b8",
   "metadata": {},
   "outputs": [],
   "source": [
    "# try single plot first !\n",
    "x = np.linspace(0, 2*np.pi, 100)\n",
    "y = np.sin(x)\n",
    "\n",
    "plt.plot(x, y)\n",
    "plt.title(\"Sine Wave\")\n",
    "plt.xlabel('Radious')\n",
    "plt.ylabel('Amplitude')\n",
    "plt.show()"
   ]
  },
  {
   "cell_type": "code",
   "execution_count": null,
   "id": "e5e15d12",
   "metadata": {},
   "outputs": [],
   "source": [
    "# try multiple plot and adjust color of lines.\n",
    "x = np.linspace(0, 2*np.pi, 100)\n",
    "\n",
    "y1 = np.sin(x)\n",
    "y2 = np.sin(2*x)\n",
    "y3 = np.sin(3*x)\n",
    "\n",
    "plt.plot(x, y1, 'k-',  label=f'X')\n",
    "plt.plot(x, y2, 'r--', label=f'2X')\n",
    "plt.plot(x, y3, 'gx-', label=f'3X')\n",
    "\n",
    "plt.title(\"Sine Wave\")\n",
    "plt.xlabel('Radious')\n",
    "plt.ylabel('Amplitude')\n",
    "plt.legend()\n",
    "plt.show()"
   ]
  },
  {
   "cell_type": "code",
   "execution_count": null,
   "id": "febb88e2",
   "metadata": {},
   "outputs": [],
   "source": [
    "# use \"for loop\" do multiple plot.\n",
    "x = np.linspace(0, 2*np.pi, 100)\n",
    "y = [np.sin(n*x)\n",
    "     for n in [1, 2, 3]]\n",
    "\n",
    "colors = ['k', 'r', 'g']\n",
    "lines  = ['-', '--', '-']\n",
    "symbol = ['', '', 'x']\n",
    "labels = ['x', '2x', '3x']\n",
    "\n",
    "for i in range(3):\n",
    "    plt.plot(x, y[i], color=colors[i], marker=symbol[i], linestyle=lines[i], label=labels[i])\n",
    "\n",
    "plt.title(\"Sine Wave\")\n",
    "plt.xlabel('Radious')\n",
    "plt.ylabel('Amplitude')\n",
    "plt.legend()\n",
    "plt.show()"
   ]
  },
  {
   "cell_type": "markdown",
   "id": "6572155b",
   "metadata": {},
   "source": [
    "## Scientific data plot -- Powder X-ray diffraction plot."
   ]
  },
  {
   "cell_type": "code",
   "execution_count": null,
   "id": "0d7c8ba6",
   "metadata": {},
   "outputs": [],
   "source": [
    "# Condition 1 \n",
    "# Read data from publiv github.\n",
    "addres_head = f'https://raw.githubusercontent.com/VolHC/Lab_plot_tutorial/refs/heads/main/Basic_plot'\n",
    "\n",
    "fn = [f'{addres_head}/demo_data/Demo1.txt',\n",
    "      f'{addres_head}/demo_data/Demo2.txt',\n",
    "      f'{addres_head}/demo_data/Demo3.txt',\n",
    "      f'{addres_head}/demo_data/reference.xye']\n",
    "\n",
    "fn"
   ]
  },
  {
   "cell_type": "code",
   "execution_count": null,
   "id": "12140799",
   "metadata": {},
   "outputs": [],
   "source": [
    "# Condition 2\n",
    "# Read data from local ascii type data.\n",
    "path = f'/Users/chen.bh/git/Lab_plot_tutorial/Basic_plot'\n",
    "\n",
    "fn = [f'{path}/demo_data/Demo1.txt',\n",
    "      f'{path}/demo_data/Demo2.txt',\n",
    "      f'{path}/demo_data/Demo2.txt',\n",
    "      f'{path}/demo_data/reference.xye']\n",
    "\n",
    "labels = ['Demo_1', 'Demo_2', 'Demo_3', 'reference']\n",
    "\n",
    "fn"
   ]
  },
  {
   "cell_type": "code",
   "execution_count": null,
   "id": "29032e31",
   "metadata": {},
   "outputs": [],
   "source": [
    "# Condition 3\n",
    "# Using colab and read data from local ascii type data.\n",
    "\n",
    "from google.colab import files\n",
    "uploaded = files.upload()\n",
    "uploaded.keys()\n",
    "\n",
    "fn  = list(uploaded.keys())[0]\n",
    "fn"
   ]
  },
  {
   "cell_type": "code",
   "execution_count": null,
   "id": "e1752647",
   "metadata": {},
   "outputs": [],
   "source": [
    "# Read data from files.\n",
    "xye = []\n",
    "for n in fn:\n",
    "\txye.append(np.loadtxt(f'{n}', skiprows=2).T) \n",
    "\n",
    "#np.loadtxt : read txt/ascii file  \n",
    "#skiprows : skip read how many rows at file starting.\n",
    "#T : transform matrix, column to row, row to column. AT:(aij​)↦(aji​).\n",
    "\n",
    "xye"
   ]
  },
  {
   "cell_type": "code",
   "execution_count": null,
   "id": "52c87090",
   "metadata": {},
   "outputs": [],
   "source": [
    "# Use for loop plot diffraction data\n",
    "for i in range(4):\n",
    "    plot_x = xye[i][0]\n",
    "    plot_y = xye[i][1]\n",
    "    plt.plot(plot_x, plot_y, linestyle='-', label=labels[i])\n",
    "\n",
    "plt.xlabel('2' + r'$\\theta$' +'(\\u00b0)')\n",
    "plt.ylabel('Intensity')\n",
    "plt.legend()\n",
    "plt.show()"
   ]
  },
  {
   "cell_type": "code",
   "execution_count": null,
   "id": "719485f2",
   "metadata": {},
   "outputs": [],
   "source": [
    "# Use for loop to plot \"Normalized\" diffraction data\n",
    "\n",
    "#Define a function for Intensity normalization.\n",
    "def normalize_intensity(intensity):\n",
    "    Nor_Int = intensity/max(intensity)\n",
    "    return(Nor_Int)\n",
    "\n",
    "for i in range(4):\n",
    "    plot_x = xye[i][0]\n",
    "    plot_y = normalize_intensity(xye[i][1])\n",
    "    plt.plot(plot_x, plot_y, linestyle='-', label=labels[i])\n",
    "\n",
    "plt.xlabel('2' + r'$\\theta$' +'(\\u00b0)')\n",
    "plt.ylabel('Normalized intensity')\n",
    "plt.xlim()\n",
    "plt.legend()\n",
    "plt.show()"
   ]
  },
  {
   "cell_type": "code",
   "execution_count": null,
   "id": "9f8a35f5",
   "metadata": {},
   "outputs": [],
   "source": [
    "# stacking plot in a subplot.\n",
    "colors = ['b', 'r', 'g', 'k']\n",
    "\n",
    "fig, axs = plt.subplots(4, 1, sharex=True, figsize=(10, 10))\n",
    "fig.subplots_adjust(hspace=0, wspace=0.0, left=0.1, right=0.97, top=0.95, bottom=0.12)\n",
    "\n",
    "for i in range(4):\n",
    "    plot_x = xye[i][0]\n",
    "    plot_y = normalize_intensity(xye[i][1])\n",
    "    axs[i].plot(plot_x, plot_y, linestyle='-', color=colors[i], label=labels[i])\n",
    "    axs[i].legend()\n",
    "    axs[i].set_ylabel('Normalized intensity')\n",
    "\n",
    "plt.xlabel('2' + r'$\\theta$' +'(\\u00b0)')\n",
    "\n",
    "plt.xlim(24, 75) # set X axis plot range\n",
    "plt.show()\n",
    "\n",
    " "
   ]
  }
 ],
 "metadata": {
  "kernelspec": {
   "display_name": "data_plot",
   "language": "python",
   "name": "python3"
  },
  "language_info": {
   "codemirror_mode": {
    "name": "ipython",
    "version": 3
   },
   "file_extension": ".py",
   "mimetype": "text/x-python",
   "name": "python",
   "nbconvert_exporter": "python",
   "pygments_lexer": "ipython3",
   "version": "3.13.7"
  }
 },
 "nbformat": 4,
 "nbformat_minor": 5
}
