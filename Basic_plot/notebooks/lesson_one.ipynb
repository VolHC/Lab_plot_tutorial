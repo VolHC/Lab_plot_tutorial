{
 "cells": [
  {
   "cell_type": "markdown",
   "metadata": {},
   "source": [
    "# Welcome to the Tutorial of python plot\n",
    "\n",
    "Base on my experience, I summarized some easy way to plot your own data.\n",
    "\n",
    "This is a minimal Jupyter Notebook for teaching. You can run vitrul machine by colab link.\n",
    "\n",
    "Try running the code cells below!"
   ]
  },
  {
   "cell_type": "code",
   "execution_count": null,
   "metadata": {},
   "outputs": [],
   "source": [
    "# Replace your name in \"Student\".\n",
    "name = \"Student\"\n",
    "print(f\"Hello, {name}! Welcome to the class.\")"
   ]
  },
  {
   "cell_type": "code",
   "execution_count": null,
   "metadata": {},
   "outputs": [],
   "source": [
    "# try single plot first !\n",
    "import matplotlib.pyplot as plt\n",
    "import numpy as np\n",
    "\n",
    "x = np.linspace(0, 2*np.pi, 100)\n",
    "y = np.sin(x)\n",
    "\n",
    "plt.plot(x, y)\n",
    "plt.title(\"Sine Wave\")\n",
    "plt.show()"
   ]
  },
  {
   "cell_type": "code",
   "execution_count": null,
   "id": "e5e15d12",
   "metadata": {},
   "outputs": [],
   "source": [
    "# try multiple plot and adjust color of lines.\n",
    "x = np.linspace(0, 2*np.pi, 100)\n",
    "\n",
    "y1 = np.sin(x)\n",
    "y2 = np.sin(2*x)\n",
    "y3 = np.sin(3*x)\n",
    "\n",
    "plt.plot(x, y1, 'k-',  label=f'X')\n",
    "plt.plot(x, y2, 'r--', label=f'2X')\n",
    "plt.plot(x, y3, 'gx-', label=f'3X')\n",
    "plt.title(\"Sine Wave\")\n",
    "plt.legend()\n",
    "plt.show()"
   ]
  },
  {
   "cell_type": "code",
   "execution_count": null,
   "id": "12140799",
   "metadata": {},
   "outputs": [],
   "source": [
    "# Read data from ascii type data.\n",
    "fn = ['']\n",
    "\n",
    "y = np.readtxt('').T"
   ]
  },
  {
   "cell_type": "markdown",
   "id": "a93e1cec",
   "metadata": {},
   "source": [
    "# Download conda at your local computer, then install ipython.\n",
    "\n",
    "Step 1. Download URL : https://www.anaconda.com/download/success\n",
    "\n",
    "![conda_navigator](../images/conda_download_page.png)\n",
    "\n",
    "Step 2. Open navigator\n",
    "\n",
    "![conda_navigator](../images/conda_navigator.png)\n",
    "\n",
    "# open python in terminal, try to install by command \n",
    "\n",
    "<div style=\"display: flex; align-items: center; justify-content: space-between; width: 400px;\">\n",
    "  <code id=\"cmd1\">python -m pip install ipython</code>\n",
    "  <button onclick=\"navigator.clipboard.writeText(document.getElementById('cmd1').innerText)\">Copy</button>\n",
    "</div>"
   ]
  },
  {
   "cell_type": "markdown",
   "id": "bfd7cbf6",
   "metadata": {},
   "source": []
  }
 ],
 "metadata": {
  "kernelspec": {
   "display_name": "Python 3",
   "language": "python",
   "name": "python3"
  },
  "language_info": {
   "name": "python",
   "version": "3.10"
  }
 },
 "nbformat": 4,
 "nbformat_minor": 5
}
